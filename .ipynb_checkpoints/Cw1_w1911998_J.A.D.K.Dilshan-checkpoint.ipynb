{
 "cells": [
  {
   "cell_type": "markdown",
   "id": "9e6d9321-71ab-476f-9f57-57531a15889f",
   "metadata": {},
   "source": [
    "## <center> </center>\n",
    "## <center>INFORMATICS INSTITUTE OF TECHNOLOGY</center>\n",
    "### <center>BSC (Hons) Computer Science</center>\n",
    "## <center>UNIVERSITY OF WESTMINSTER</center>\n",
    "\n",
    "## <center>6COSC020C.1 Applied AI</center>\n",
    "### <center>Coursework (2024/25)</center>\n",
    "\n",
    "# <center>AI-Assisted Melody Generation</center>\n",
    "### <center>Domain : Music recognition and composition </center>\n",
    "\n",
    "### <center>By: J. A. D. K. Dilshan</center>\n",
    "### <center>Student ID: 20210201 | UoW ID : w1911998</center>"
   ]
  },
  {
   "cell_type": "markdown",
   "id": "9f1c8c00-b695-4639-a4ae-37fef3080bbd",
   "metadata": {},
   "source": [
    "# Part A – Application area review"
   ]
  },
  {
   "cell_type": "markdown",
   "id": "1c1023e6-6af5-4eec-b5a9-39bc7dfade21",
   "metadata": {},
   "source": [
    "## Introduction\n",
    "\n",
    "Artificial Intelligence (AI) has proven to be a transformative intelligence in almost all domains, from either replacing the old traditional practices to enabling new functionalities. AI technologies provide great advances in the areas of music recognition and composition in which a machine can listen and understand, and even create music. These ranges from tasks of recognizing musical structures to generating melodies, to composing compositions of musical patterns that simulate human music creativity. Generative melody problems involve giving different inputs of the user like the complexity, key, mood, and instrument choice, then getting a melody produced. The objective of the project is to generate an AI driven melody generation system to produce a composition as musically cohesive, emotionally coherent to user specified mood, and as complex as user preferences allow."
   ]
  },
  {
   "cell_type": "markdown",
   "id": "e7da9a51-5651-436d-95b6-d1c40bbc02c7",
   "metadata": {},
   "source": [
    "## Overview of AI in Music Recognition and Composition\n",
    "\n",
    "Music recognition and composition have been a big deal thanks to Artificial Intelligence (AI), making machines capable of analyzing, understanding and composing music increasingly more sophisticated. With harnessing powerful algorithms and Machine learning techniques, AI is revolutionizing the world of music where music is made, heard and understood. There are many types of AI applications in music, from helping the artists in producing the music to teaching learners music theory and to creating a personal playlist. Such AI produces adaptive or mood specific scores in interactive contexts like gaming and film to improve the user experience."
   ]
  },
  {
   "cell_type": "markdown",
   "id": "958d23bf-1257-4e42-aa26-b39104d3f9b1",
   "metadata": {},
   "source": [
    "### Music Recognition\n",
    "The aim of music recognition using AI is to analyze audio signals to gain useful musical features such as pitch, rhythm, harmony etc. Such systems take advantage of Convolutional Networks to execute audio spectrograms, and are applied to genre classification (Toshniwal, Tandon and P, 2022), chord prediction, and instrument identification. For instance, deep learning models are used in Google’s Magenta project to solve transcription tasks (transcribing audio to polyphonic audio) to symbolic formats such as MIDI file (Hawthorne et al., 2019). Not only does Spotify’s recommendation algorithms rely on AI to be able to classify and recommend tracks according to extracted musical features and user preferences, but it goes further."
   ]
  },
  {
   "cell_type": "markdown",
   "id": "6ec046ad-1b1a-441c-ac96-6e184a0614e3",
   "metadata": {},
   "source": [
    "### Music Composition\n",
    "When discussing music composition, AI is a generative algorithm which generates music that mimics how humans create things. Sequence generation is heavily leveraged techniques, e.g., Recurrent Neural Networks (RNNs) and Long Short-Term Memory (LSTM) networks (Wiriyachaiporn et al., 2018). For example, (Huang et al., 2018) show that neural networks have the ability to compose multi-instrument tracks in various styles, using multi layer attention mechanisms in its MuseNet.\n",
    "The generative adversarial networks (GANs) have also been used to generate unique compositions. There are a number of examples, such as MuseGAN (Dong et al., 2017), that are able to multi track symbolic music generation by training on large collections of MIDI files. However, these models become adept at generating diverse, complex musical arrangements, which are indistinguishable from human works. There are tools like AIVA (Artificial Intelligence Virtual Artist) that can combine rule based and machine learning to get film score composers or background music for some theme or emotion."
   ]
  },
  {
   "cell_type": "markdown",
   "id": "f3e5aa18-8a42-476a-87bc-dc4b6599a062",
   "metadata": {
    "jp-MarkdownHeadingCollapsed": true
   },
   "source": [
    "### Heuristic Methods in Composition\n",
    "Particularly suited for applications in which structured outputs are required are search algorithms such as the A* algorithm. The methods in these sections comprise heuristic function based evaluations of transitions between notes, all conforming to harmonic principles. It is possible to treat music composition as a pathfinding problem, and A* can successfully generate optimized melodies corresponding to given chord progressions and scales."
   ]
  },
  {
   "cell_type": "markdown",
   "id": "bf7bd720-e182-4629-a0b6-a0a089e73a5a",
   "metadata": {},
   "source": [
    "# Part B – Compare and evaluate AI techniques"
   ]
  },
  {
   "cell_type": "markdown",
   "id": "2b9587e2-4703-4a79-81e6-5f93153bc9ff",
   "metadata": {},
   "source": [
    "**Domain**: Music Recognition and Composition\n",
    "\n",
    "**Problem**: A melody generator whose output is based on user input that is augmented by AI.\n",
    "\n",
    "**Goal**: This analysis aims to investigate how AI techniques will help generate melodies which follow musical harmony or structure. The chosen techniques are Search techniques (A*), Minimax with Alpha Beta Pruning and Clustering (K-means). Evaluation of each technique is based on its fit for constructing emotionally resonant compositions in the domain of music recognition and composition that gradually build up structure."
   ]
  },
  {
   "cell_type": "markdown",
   "id": "5bf5eb9c-bc2e-419f-a679-ff85b322e629",
   "metadata": {},
   "source": [
    "The development of Artificial Intelligence (AI) techniques has greatly developed the music recognition and composition domain, where new and powerful means for musical analysis, generation, and structure are at hand. Out of the wide variety of methods, A Search*, Minimax with Alpha Beta Pruning, and K Means Clustering are particularly suitable for overcoming aspects of musical challenge. These methods use mathematical and heuristic approaches to either optimize melodies, evaluate harmonic progressions, or find patterns in music."
   ]
  },
  {
   "cell_type": "markdown",
   "id": "138c95cf-4f65-43cd-bdc8-894dc22bc76d",
   "metadata": {},
   "source": [
    "## A* Search Algorithm\n",
    "A heuristic search is a state space tree search that chooses actions and then states such that the cost to goal is bounded by some known upper bound. In music composition, it serves as a general representation of notes or chords as states and musical steps as their transitions evaluated for harmonic conditions."
   ]
  },
  {
   "cell_type": "markdown",
   "id": "d2cc8313-cac3-4358-8053-034a29cd1d2b",
   "metadata": {},
   "source": [
    "### Strengths\n",
    "<ul>\n",
    "<li>It guarantees optimal solution for admissible heuristics.</li>\n",
    "<li>It is flexible in using domain specific heuristics (harmony costs, melodic smoothness).</li>\n",
    "<li>Structured and harmonically consistent outputs.</li>\n",
    "</ul>"
   ]
  },
  {
   "cell_type": "markdown",
   "id": "adbf22eb-f55d-46f4-8eaa-2913999bbdd2",
   "metadata": {},
   "source": [
    "### Weaknesses\n",
    "<ul>\n",
    "<li>It guarantees optimal solution for admissible heuristics.</li>\n",
    "<li>It is flexible in using domain specific heuristics (harmony costs, melodic smoothness).</li>\n",
    "</ul>"
   ]
  },
  {
   "cell_type": "markdown",
   "id": "c3658b52-308f-4ce1-a69c-43de1661d0a8",
   "metadata": {},
   "source": [
    "### Application Example\n",
    "The algorithm can create a melody if the cost of moving the note or from one chord to another is evaluated. For example, it can have the separate penalty on large jumps to enforce smoother melodies in keeping with music rules."
   ]
  },
  {
   "cell_type": "markdown",
   "id": "8477d697-31e9-4954-9dd9-1a37f1d9b7ca",
   "metadata": {},
   "source": [
    "#### Input Data and Expected Output\n",
    "**Input Data:** Starting note, melody length, key, note range.\n",
    "<br>\n",
    "**Expected Output:** A sequence of MIDI notes forming a structured melody."
   ]
  },
  {
   "cell_type": "markdown",
   "id": "451cc44e-04d7-497e-9729-debb0213a27d",
   "metadata": {},
   "source": [
    "## Minimax with Alpha-Beta Pruning\n",
    "The decision making scenarios like games prefer using minimax with alpha beta pruning. In music composition, it can be used to optimize note sequences given note choice as a decision while optimizing for harmonic, stylistic criteria."
   ]
  },
  {
   "cell_type": "markdown",
   "id": "0b144900-26d4-419e-b796-adb393ff0ea5",
   "metadata": {},
   "source": [
    "### Strengths\n",
    "<ul>\n",
    "<li>They are model competitive or cooperative musical dynamics, in terms of tension and resolution.</li>\n",
    "<li>Pruning helps in decreasing computation by removing suboptimal branches in the search tree.</li>\n",
    "</ul>"
   ]
  },
  {
   "cell_type": "markdown",
   "id": "109e6620-a20b-4ebf-aa36-8f735be664ba",
   "metadata": {},
   "source": [
    "### Weaknesses\n",
    "<ul>\n",
    "<li>Work well for discrete and sequential decisions but not as well for continuous creativity.</li>\n",
    "<li>To perform musical quality assessment, it requires well defined utility functions, which are often subjective.</li>\n",
    "</ul>"
   ]
  },
  {
   "cell_type": "markdown",
   "id": "e3b1f31e-7df7-4c6c-9e28-0b580ad7a57e",
   "metadata": {},
   "source": [
    "### Application Example\n",
    "Minimax can compose a melody by resolving harmonic tension and tension. For instance, an attribute could apply to note sequences in which each note is construed as a different harmonic goal (e.g., consonance or dissonance)."
   ]
  },
  {
   "cell_type": "markdown",
   "id": "a8966d45-116e-4d6a-905b-3dc9cfd6fd7d",
   "metadata": {},
   "source": [
    "#### Input Data and Expected Output\n",
    "**Input Data:** Note tree, harmonic goals, and evaluation criteria for pruning.\n",
    "<br>\n",
    "**Expected Output:** A melody optimized for tension-resolution dynamics."
   ]
  },
  {
   "cell_type": "markdown",
   "id": "e0451211-d95a-413b-8edb-5cf7fe0171c5",
   "metadata": {},
   "source": [
    "## Clustering (K-Means)\n",
    "The key of K means clustering is to group the data points into groups based on feature similarity. In music, common patterns or clusters of notes by pitch, duration or other attributes can be classified or generated, so it can identify, or generate note sequences."
   ]
  },
  {
   "cell_type": "markdown",
   "id": "d05dc84a-5b06-4293-a0a3-8db091eece5f",
   "metadata": {},
   "source": [
    "### Strengths\n",
    "<ul>\n",
    "<li>Helps in identifying hidden patterns in datasets and it is useful for analyzing musical structures.</li>\n",
    "<li>Good for clustering tasks since it is lightweight and computationally efficient.</li>\n",
    "</ul>"
   ]
  },
  {
   "cell_type": "markdown",
   "id": "d07d26f2-09f8-407c-97e0-03c1d2a0d2f2",
   "metadata": {},
   "source": [
    "### Weaknesses\n",
    "<ul>\n",
    "<li>It needs data before the clusters before being defined.</li>\n",
    "<li>It has very limited direct use for sequential tasks such as melody generation without adaptation.</li>\n",
    "</ul>"
   ]
  },
  {
   "cell_type": "markdown",
   "id": "666623e9-3c08-4fd4-8c6b-c04225e01cf9",
   "metadata": {},
   "source": [
    "### Application Example\n",
    "For instance, notes in a melody can be grouped by similarity (also known as clustering notes or chords based on pitch and duration), using K means. These clusters can serve to generate the melodic or harmonic spectrum within a given musical segment, giving desired coherence between segments."
   ]
  },
  {
   "cell_type": "markdown",
   "id": "4c019ce3-a677-4470-a5a9-62f41780cba0",
   "metadata": {},
   "source": [
    "#### Input Data and Expected Output\n",
    "**Input Data:** Dataset containig notes or chords with features like pitch, duration, and intensity.\n",
    "<br>\n",
    "**Expected Output:** Clusters of notes or chords with shared characteristics."
   ]
  },
  {
   "cell_type": "markdown",
   "id": "df67740c-cf26-44d2-9a40-870a3271c64b",
   "metadata": {},
   "source": [
    "## Comparison of Techniques\n",
    "The music composition benefits from use of the A* Search Algorithm, Minimax with Alpha-Beta Pruning and K-Means Clustering. Heuristics make A* Search an excellent technique for creating well structured and harmonically unified melodies, but they may be lacking in a degree of creative variability. While decision trees model nicely tension and resolution through minimax, it depends on well defined utility functions. However, K-Means allows analysis and ignores the temporal nature essential for melody generation, which measures music away from timbre and rhythm."
   ]
  },
  {
   "cell_type": "markdown",
   "id": "4ba04a23-7a33-4c5d-9d87-7ea4ef97815b",
   "metadata": {},
   "source": [
    "## Selected Technique\n",
    "Author's selection is the A* search algorithm, as it can generate structured melodies respecting harmony and musical theory. Its deterministic nature guarantees repeatability making it suitable to replicate upon for applications with harmonic demands. Because of the flexibility of heuristic design, the heuristic is the most suitable for this problem domain, as it lends itself to customizing for different musical styles and goals."
   ]
  },
  {
   "cell_type": "markdown",
   "id": "ee0b7422-3bdb-4291-a4f4-0199af444a28",
   "metadata": {},
   "source": [
    "# Part C – Implementation"
   ]
  },
  {
   "cell_type": "markdown",
   "id": "bb388cfc-7eae-4991-b4c8-a31655bcaac4",
   "metadata": {},
   "source": [
    "##  High-Level Diagram\n",
    "Below is a high-level diagram that depicts how the author intends to use the selected AI technique for AI-Assist Melody Generation."
   ]
  },
  {
   "cell_type": "markdown",
   "id": "5553913d-af00-4213-848b-7c7f5671c86c",
   "metadata": {},
   "source": [
    "![High_Level_Diagram.png](High_Level_Diagram.png)"
   ]
  },
  {
   "cell_type": "markdown",
   "id": "3e0cac5e-c5ae-49cc-ba18-57fc9b1dc7a1",
   "metadata": {},
   "source": [
    "## Input Requirements"
   ]
  },
  {
   "cell_type": "markdown",
   "id": "2b397080-1770-41a7-bd19-419b75bda37e",
   "metadata": {},
   "source": [
    "### Input Type\n",
    "This melody generation implementation requires musical parameters as input. Input types are the strings, the integers, and user selections. Specifically, the inputs are:\n",
    "<ul>\n",
    "<li>Strings: The starting note, key, minimum note, and maximum note (e.g., 'C4', 'C3', 'C6').</li>\n",
    "<li>Integer: The goal length (e.g., the number of notes in the melody), and for instrument selection (corresponding to a number in the predefined list).</li>\n",
    "<li>Mood and Complexity: Both are strings that describe the emotional quality of the melody ('happy', 'sad', 'energetic', etc.) and the rhythmic structure complexity ('simple', 'moderate', 'complex').</li>"
   ]
  },
  {
   "cell_type": "markdown",
   "id": "f3c990dc-8e4a-4f04-b52c-fb5a5374cfc0",
   "metadata": {},
   "source": [
    "### Data Source\n",
    "At runtime user provides the required inputs interactively and the data is sourced from them. There's no use of an external data source for melody generation. User is to enter all the data through text inputs, and that will then be processed through the code to produce the melody."
   ]
  },
  {
   "cell_type": "markdown",
   "id": "210d6154-b6bc-4ff8-92a9-6b08aa560ffd",
   "metadata": {},
   "source": [
    "### Data Preparation\n",
    "There is no need for data preparation before running it, as the user gives the data in real-time. But all of this input is in scientific pitch notation (e.g., 'C4'), so the author map this to MIDI note numbers according to some predetermined mapping. These mood and complexity inputs are used to choose which chord progressions and rhythmic patterns are appropriate. The input from the MIDI was chosen from a given predefined list of MIDI instrument. The program itself is designed to not require any special data format or preprocessing, besides that it enters the inputs in the correct format where it internally converts and completes the logic."
   ]
  },
  {
   "cell_type": "markdown",
   "id": "ad60da0e-9b0d-4e34-9b65-3ef06a909865",
   "metadata": {},
   "source": [
    "## Prototype"
   ]
  },
  {
   "cell_type": "markdown",
   "id": "aa465a55-5a72-4dad-abc3-1dffaeabd0cd",
   "metadata": {},
   "source": [
    "### Installing required libraries"
   ]
  },
  {
   "cell_type": "code",
   "execution_count": 1,
   "id": "13bd3503-acb5-44ea-9117-7a852a3dd9a8",
   "metadata": {},
   "outputs": [
    {
     "name": "stdout",
     "output_type": "stream",
     "text": [
      "Requirement already satisfied: matplotlib in c:\\users\\admin\\appdata\\local\\programs\\python\\python312\\lib\\site-packages (3.9.2)\n",
      "Requirement already satisfied: mido in c:\\users\\admin\\appdata\\local\\programs\\python\\python312\\lib\\site-packages (1.3.3)\n",
      "Requirement already satisfied: contourpy>=1.0.1 in c:\\users\\admin\\appdata\\local\\programs\\python\\python312\\lib\\site-packages (from matplotlib) (1.3.0)\n",
      "Requirement already satisfied: cycler>=0.10 in c:\\users\\admin\\appdata\\local\\programs\\python\\python312\\lib\\site-packages (from matplotlib) (0.12.1)\n",
      "Requirement already satisfied: fonttools>=4.22.0 in c:\\users\\admin\\appdata\\local\\programs\\python\\python312\\lib\\site-packages (from matplotlib) (4.54.1)\n",
      "Requirement already satisfied: kiwisolver>=1.3.1 in c:\\users\\admin\\appdata\\local\\programs\\python\\python312\\lib\\site-packages (from matplotlib) (1.4.7)\n",
      "Requirement already satisfied: numpy>=1.23 in c:\\users\\admin\\appdata\\local\\programs\\python\\python312\\lib\\site-packages (from matplotlib) (2.0.2)\n",
      "Requirement already satisfied: packaging>=20.0 in c:\\users\\admin\\appdata\\local\\programs\\python\\python312\\lib\\site-packages (from matplotlib) (24.1)\n",
      "Requirement already satisfied: pillow>=8 in c:\\users\\admin\\appdata\\local\\programs\\python\\python312\\lib\\site-packages (from matplotlib) (10.4.0)\n",
      "Requirement already satisfied: pyparsing>=2.3.1 in c:\\users\\admin\\appdata\\local\\programs\\python\\python312\\lib\\site-packages (from matplotlib) (3.2.0)\n",
      "Requirement already satisfied: python-dateutil>=2.7 in c:\\users\\admin\\appdata\\local\\programs\\python\\python312\\lib\\site-packages (from matplotlib) (2.9.0.post0)\n",
      "Requirement already satisfied: six>=1.5 in c:\\users\\admin\\appdata\\local\\programs\\python\\python312\\lib\\site-packages (from python-dateutil>=2.7->matplotlib) (1.16.0)\n"
     ]
    }
   ],
   "source": [
    "!pip install matplotlib mido"
   ]
  },
  {
   "cell_type": "code",
   "execution_count": 2,
   "id": "2b11e229-2cc8-467b-9977-9789e7d7083f",
   "metadata": {},
   "outputs": [],
   "source": [
    "import random\n",
    "import matplotlib.pyplot as plt\n",
    "from mido import MidiFile, MidiTrack, Message"
   ]
  },
  {
   "cell_type": "code",
   "execution_count": 3,
   "id": "9f41d99b-84c3-4476-aa0d-a5b7b6b3443f",
   "metadata": {},
   "outputs": [],
   "source": [
    "# Map note names to MIDI numbers\n",
    "NOTE_TO_MIDI = {\n",
    "    'C': 0, 'C#': 1, 'D': 2, 'D#': 3, 'E': 4, 'F': 5, 'F#': 6,\n",
    "    'G': 7, 'G#': 8, 'A': 9, 'A#': 10, 'B': 11\n",
    "}"
   ]
  },
  {
   "cell_type": "code",
   "execution_count": 4,
   "id": "579fad9f-7a91-49ee-82c4-75cd0da92546",
   "metadata": {},
   "outputs": [],
   "source": [
    "# Instrument names mapped to MIDI program numbers\n",
    "INSTRUMENTS = {\n",
    "    0: \"Acoustic Grand Piano\", 1: \"Bright Acoustic Piano\", 2: \"Electric Grand Piano\",\n",
    "    13: \"Xylophone\", 18: \"Rock Organ\", 19: \"Church Organ\", 24: \"Acoustic Guitar (nylon)\",\n",
    "    25: \"Acoustic Guitar (steel)\", 26: \"Electric Guitar (jazz)\", 27: \"Electric Guitar (clean)\",\n",
    "    32: \"Acoustic Bass\", 33: \"Electric Bass (finger)\", 40: \"Violin\", 41: \"Viola\", 42: \"Cello\",\n",
    "    56: \"Trumpet\", 57: \"Trombone\", 58: \"Tuba\", 60: \"French Horn\", 64: \"Soprano Sax\", 65: \"Alto Sax\",\n",
    "    71: \"Clarinet\", 72: \"Piccolo\", 73: \"Flute\", 104: \"Sitar\", 105: \"Banjo\"\n",
    "}"
   ]
  },
  {
   "cell_type": "markdown",
   "id": "875ab0ff-3226-401f-a2ba-ed53da42cdfb",
   "metadata": {},
   "source": [
    "### Instrument Selection\n",
    "The above cell describes a dictionary of MIDI instrument program numbers (e.g., Acoustic Grand Piano equals '0'). It also offers extensive selection from a large set of instruments for melody generation. In the MIDI file generated melody the program applies selected instrument."
   ]
  },
  {
   "cell_type": "code",
   "execution_count": 5,
   "id": "45e0bbda-1642-4845-a205-0ec604ef4284",
   "metadata": {},
   "outputs": [],
   "source": [
    "def note_to_midi(note):\n",
    "    # Convert note name (e.g., 'C4') to MIDI number.\n",
    "    try:\n",
    "        base_note = note[:-1]\n",
    "        octave = int(note[-1])\n",
    "        return NOTE_TO_MIDI[base_note] + (octave + 1) * 12\n",
    "    except (ValueError, KeyError):\n",
    "        raise ValueError(f\"Invalid key '{note}'. Please enter a valid note like 'C4', 'G#3', etc.\")\n",
    "\n",
    "def midi_to_note(midi_number):\n",
    "    # Convert MIDI number to note name (e.g., 60 to 'C4').\n",
    "    octave = (midi_number // 12) - 1\n",
    "    note = list(NOTE_TO_MIDI.keys())[midi_number % 12]\n",
    "    return f\"{note}{octave}\""
   ]
  },
  {
   "cell_type": "markdown",
   "id": "4703f069-1112-4c5a-ac37-b4cc8f45a493",
   "metadata": {},
   "source": [
    "### Note to MIDI Conversion\n",
    "The note_to_midi function is added to convert musical notes (e.g. 'C4') to MIDI note numbers. With this, it is able to deal with numerical representations of notes in order to generate the melodies. midi_to_note function takes in MIDI numbers and converts them back to note names."
   ]
  },
  {
   "cell_type": "code",
   "execution_count": 6,
   "id": "59e6ef92-04e3-4705-a95d-4a4ab595ff98",
   "metadata": {},
   "outputs": [],
   "source": [
    "# Harmony cost heuristic\n",
    "def harmony_cost(current_note, next_note):\n",
    "    return abs(current_note - next_note)"
   ]
  },
  {
   "cell_type": "markdown",
   "id": "7de9efa8-7580-4180-b971-6cc0f1d4c1e7",
   "metadata": {},
   "source": [
    "### Harmony Cost Heuristic\n",
    "The harmony_cost function gets the difference in MIDI numbers between two notes and decides how well they harmonize. The lower cost of the notes means that they fit well together and guide the melody generation."
   ]
  },
  {
   "cell_type": "code",
   "execution_count": 7,
   "id": "d0e52bec-c1d7-4a7f-850c-85e1f46c4185",
   "metadata": {},
   "outputs": [],
   "source": [
    "# Chord progressions based on mood\n",
    "MOOD_TO_CHORDS = {\n",
    "    \"happy\": [\"I\", \"IV\", \"V\", \"vi\"],\n",
    "    \"sad\": [\"i\", \"iv\", \"V\", \"vi\"],\n",
    "    \"calm\": [\"I\", \"ii\", \"vi\", \"IV\"],\n",
    "    \"energetic\": [\"I\", \"V\", \"vi\", \"IV\"]\n",
    "}\n",
    "\n",
    "def generate_chord_progression(mood, key, length):\n",
    "    # Generate a chord progression based on the mood.\n",
    "    chords = {\n",
    "        \"I\": [key, key + 4, key + 7],\n",
    "        \"IV\": [key + 5, key + 9, key + 12],\n",
    "        \"V\": [key + 7, key + 11, key + 14],\n",
    "        \"vi\": [key + 9, key + 13, key + 16],\n",
    "        \"ii\": [key + 2, key + 6, key + 9],\n",
    "        \"i\": [key, key + 3, key + 7],\n",
    "        \"iv\": [key + 5, key + 8, key + 12],\n",
    "    }\n",
    "    return [chords[chord] for chord in random.choices(MOOD_TO_CHORDS[mood], k=length)]"
   ]
  },
  {
   "cell_type": "markdown",
   "id": "7ec849db-9525-4fcf-9d76-5a79da322f5c",
   "metadata": {},
   "source": [
    "### Mood-Based Chord Progression\n",
    "The input mood ('happy', 'sad', etc.) based on which the program chooses a set of chords that go with the input mood. These chords create their base out of notes that are part of the key and will dictate what notes do and do not appear in the melody. For instance, when a 'happy' mood is entered it uses major codes like 'I', 'IV', and 'V'."
   ]
  },
  {
   "cell_type": "code",
   "execution_count": 8,
   "id": "ae8913de-431c-4afc-83c2-65ddaf43c258",
   "metadata": {},
   "outputs": [],
   "source": [
    "# A* Search for melody composition\n",
    "def a_star_search(start_note, goal_length, key, possible_notes, mood, complexity, max_steps=100):\n",
    "    open_list = [(start_note, [start_note], 0)]\n",
    "    melody_durations = []\n",
    "    chord_progression = generate_chord_progression(mood, key, goal_length)\n",
    "\n",
    "    while open_list:\n",
    "        current_note, melody, cost = open_list.pop(0)\n",
    "\n",
    "        if len(melody) == goal_length:\n",
    "            return melody, melody_durations\n",
    "\n",
    "        for next_note in possible_notes:\n",
    "            chord = chord_progression[len(melody) % len(chord_progression)]\n",
    "            if next_note in chord:\n",
    "                new_cost = cost + harmony_cost(current_note, next_note)\n",
    "                new_melody = melody + [next_note]\n",
    "\n",
    "                # Adjust duration based on complexity\n",
    "                duration = {\n",
    "                    \"simple\": random.choice([480, 960]),\n",
    "                    \"moderate\": random.choice([240, 480, 960]),\n",
    "                    \"complex\": random.choice([120, 240, 480, 960])\n",
    "                }.get(complexity)\n",
    "\n",
    "                melody_durations.append(duration)\n",
    "                open_list.append((next_note, new_melody, new_cost))\n",
    "\n",
    "        open_list.sort(key=lambda x: x[2])\n",
    "        open_list = open_list[:max_steps]\n",
    "\n",
    "    return melody, melody_durations"
   ]
  },
  {
   "cell_type": "markdown",
   "id": "1212d734-d5f4-4c59-8b5b-7d3ea0f41869",
   "metadata": {},
   "source": [
    "### A* Search Algorithm for Melody Composition\n",
    "The above cell use the A* search algorithm for generating a melody based on the notes possible (within a given range), the current chord progression and harmony cost. The algorithm goes through all possible paths & choose the most harmonic ones. After the melody goes for the set length. The generated melody rhythm will be the more complex, the higher the complexity parameter. Simple complexity has longer (whole or half note) melody notes and moderate and complex levels include faster rhythms (quarter or eighth notes)."
   ]
  },
  {
   "cell_type": "code",
   "execution_count": 9,
   "id": "0d17ae1b-9a71-4fbd-800e-66a99d4b76d2",
   "metadata": {},
   "outputs": [],
   "source": [
    "# Plot melody\n",
    "def plot_melody(melody):\n",
    "    plt.figure(figsize=(10, 2))\n",
    "    plt.plot(melody, marker='o', linestyle='-', color='b')\n",
    "    plt.title(\"Generated Melody\")\n",
    "    plt.xlabel(\"Note Index\")\n",
    "    plt.ylabel(\"MIDI Note Number\")\n",
    "    plt.grid(True)\n",
    "    plt.show()"
   ]
  },
  {
   "cell_type": "markdown",
   "id": "1dbf2280-23d6-4289-ada8-ddab6c9e7aff",
   "metadata": {},
   "source": [
    "### Melody Visualization\n",
    "The above cell plot the melody on matplotlib where x axis is the note index and y axis is the MIDI note number. A visual representation of the generated melody is provided by this."
   ]
  },
  {
   "cell_type": "code",
   "execution_count": 10,
   "id": "91b0598b-2b4b-402f-87ad-e81ec25534ce",
   "metadata": {},
   "outputs": [],
   "source": [
    "# Create MIDI file with instruments\n",
    "def create_midi(melody, durations, instrument, filename=\"generated_melody.mid\"):\n",
    "    midi = MidiFile()\n",
    "    track = MidiTrack()\n",
    "    midi.tracks.append(track)\n",
    "    track.append(Message('program_change', program=instrument, time=0))\n",
    "\n",
    "    for i, note in enumerate(melody):\n",
    "        duration = durations[i]\n",
    "        velocity = random.randint(50, 100)\n",
    "        track.append(Message('note_on', note=note, velocity=velocity, time=0))\n",
    "        track.append(Message('note_off', note=note, velocity=velocity, time=duration))\n",
    "\n",
    "    midi.save(filename)"
   ]
  },
  {
   "cell_type": "markdown",
   "id": "9ac55127-aa75-41ba-8371-99a5d8467397",
   "metadata": {},
   "source": [
    "### MIDI File Creation\n",
    "The melody is generated once and the generated melody is then converted to a MIDI file using the mido library. The create_midi function save the melody with the selected instruments and also append the note duration."
   ]
  },
  {
   "cell_type": "code",
   "execution_count": 11,
   "id": "a82142f2-16f1-42be-8c99-c198b0136ce0",
   "metadata": {},
   "outputs": [],
   "source": [
    "# Generate melodies\n",
    "def generate_melodies():\n",
    "    print(\"Welcome to the AI Melody Generator!\")\n",
    "    try:\n",
    "        num_melodies = int(input(\"Enter the number of melodies to generate: \"))\n",
    "\n",
    "        for melody_num in range(num_melodies):\n",
    "            print(f\"\\nGenerating Melody {melody_num + 1}...\")\n",
    "\n",
    "            start_note_name = input(\"Enter the starting note (e.g., 'C4'): \").strip()\n",
    "            key_name = input(\"Enter the key for the melody (e.g., 'C4'): \").strip()\n",
    "\n",
    "            while True:\n",
    "                mood = input(\"Enter the mood (happy, sad, calm, energetic): \").strip().lower()\n",
    "                if mood in MOOD_TO_CHORDS:\n",
    "                    break\n",
    "                print(\"Invalid mood. Please choose from 'happy', 'sad', 'calm', or 'energetic'.\")\n",
    "\n",
    "            while True:\n",
    "                complexity = input(\"Enter the complexity (simple, moderate, complex): \").strip().lower()\n",
    "                if complexity in [\"simple\", \"moderate\", \"complex\"]:\n",
    "                    break\n",
    "                print(\"Invalid complexity. Please choose from 'simple', 'moderate', or 'complex'.\")\n",
    "\n",
    "            min_note_name = input(\"Enter the minimum note (e.g., 'C3'): \").strip()\n",
    "            max_note_name = input(\"Enter the maximum note (e.g., 'C6'): \").strip()\n",
    "            melody_length = int(input(\"Enter the melody length (number of notes): \"))\n",
    "\n",
    "            print(\"\\nChoose an instrument from the following list:\")\n",
    "            for num, name in INSTRUMENTS.items():\n",
    "                print(f\"{num}: {name}\")\n",
    "\n",
    "            instrument_choice = int(input(\"\\nEnter the number corresponding to the instrument: \"))\n",
    "\n",
    "            start_note = note_to_midi(start_note_name)\n",
    "            key = note_to_midi(key_name)\n",
    "            min_note = note_to_midi(min_note_name)\n",
    "            max_note = note_to_midi(max_note_name)\n",
    "            possible_notes = list(range(min_note, max_note + 1))\n",
    "\n",
    "            melody, durations = a_star_search(start_note, melody_length, key, possible_notes, mood, complexity)\n",
    "\n",
    "            print(f\"Generated Melody (MIDI): {melody}\")\n",
    "            print(f\"Generated Melody (Notes): {[midi_to_note(note) for note in melody]}\")\n",
    "\n",
    "            plot_melody(melody)\n",
    "            filename = f\"generated_melody_{melody_num + 1}.mid\"\n",
    "            create_midi(melody, durations, instrument_choice, filename)\n",
    "            print(f\"MIDI file saved: '{filename}'\")\n",
    "\n",
    "    except ValueError as e:\n",
    "        print(f\"Error: {e}\")"
   ]
  },
  {
   "cell_type": "markdown",
   "id": "e18e85ce-5250-4fdc-962c-95abccbd3caf",
   "metadata": {},
   "source": [
    "### User Interaction\n",
    "The program allows the user to specify various parameters: starting note, desired melody length key, mood, complexity, and note range. The melody is derived based on the users requirements. The instrument from the list to be selected by the user affects how the generated MIDI file will sound."
   ]
  },
  {
   "cell_type": "code",
   "execution_count": 12,
   "id": "e1300da4-cb88-4987-a491-5630afeac7ef",
   "metadata": {},
   "outputs": [
    {
     "name": "stdout",
     "output_type": "stream",
     "text": [
      "Welcome to the AI Melody Generator!\n"
     ]
    },
    {
     "name": "stdout",
     "output_type": "stream",
     "text": [
      "Enter the number of melodies to generate:  10\n"
     ]
    },
    {
     "name": "stdout",
     "output_type": "stream",
     "text": [
      "\n",
      "Generating Melody 1...\n"
     ]
    },
    {
     "name": "stdout",
     "output_type": "stream",
     "text": [
      "Enter the starting note (e.g., 'C4'):  C4\n",
      "Enter the key for the melody (e.g., 'C4'):  C4\n",
      "Enter the mood (happy, sad, calm, energetic):  happy\n",
      "Enter the complexity (simple, moderate, complex):  simple\n",
      "Enter the minimum note (e.g., 'C3'):  C3\n",
      "Enter the maximum note (e.g., 'C6'):  C6\n",
      "Enter the melody length (number of notes):  8\n"
     ]
    },
    {
     "name": "stdout",
     "output_type": "stream",
     "text": [
      "\n",
      "Choose an instrument from the following list:\n",
      "0: Acoustic Grand Piano\n",
      "1: Bright Acoustic Piano\n",
      "2: Electric Grand Piano\n",
      "13: Xylophone\n",
      "18: Rock Organ\n",
      "19: Church Organ\n",
      "24: Acoustic Guitar (nylon)\n",
      "25: Acoustic Guitar (steel)\n",
      "26: Electric Guitar (jazz)\n",
      "27: Electric Guitar (clean)\n",
      "32: Acoustic Bass\n",
      "33: Electric Bass (finger)\n",
      "40: Violin\n",
      "41: Viola\n",
      "42: Cello\n",
      "56: Trumpet\n",
      "57: Trombone\n",
      "58: Tuba\n",
      "60: French Horn\n",
      "64: Soprano Sax\n",
      "65: Alto Sax\n",
      "71: Clarinet\n",
      "72: Piccolo\n",
      "73: Flute\n",
      "104: Sitar\n",
      "105: Banjo\n"
     ]
    },
    {
     "name": "stdout",
     "output_type": "stream",
     "text": [
      "\n",
      "Enter the number corresponding to the instrument:  0\n"
     ]
    },
    {
     "name": "stdout",
     "output_type": "stream",
     "text": [
      "Generated Melody (MIDI): [60, 67, 69, 69, 67, 69, 69, 69]\n",
      "Generated Melody (Notes): ['C4', 'G4', 'A4', 'A4', 'G4', 'A4', 'A4', 'A4']\n"
     ]
    },
    {
     "data": {
      "image/png": "[encoded data removed]",
      "text/plain": [
       "<Figure size 1000x200 with 1 Axes>"
      ]
     },
     "metadata": {},
     "output_type": "display_data"
    },
    {
     "name": "stdout",
     "output_type": "stream",
     "text": [
      "MIDI file saved: 'generated_melody_1.mid'\n",
      "\n",
      "Generating Melody 2...\n"
     ]
    },
    {
     "name": "stdout",
     "output_type": "stream",
     "text": [
      "Enter the starting note (e.g., 'C4'):  A4\n",
      "Enter the key for the melody (e.g., 'C4'):  A4\n",
      "Enter the mood (happy, sad, calm, energetic):  sad\n",
      "Enter the complexity (simple, moderate, complex):  moderate\n",
      "Enter the minimum note (e.g., 'C3'):  A3\n",
      "Enter the maximum note (e.g., 'C6'):  A6\n",
      "Enter the melody length (number of notes):  12\n"
     ]
    },
    {
     "name": "stdout",
     "output_type": "stream",
     "text": [
      "\n",
      "Choose an instrument from the following list:\n",
      "0: Acoustic Grand Piano\n",
      "1: Bright Acoustic Piano\n",
      "2: Electric Grand Piano\n",
      "13: Xylophone\n",
      "18: Rock Organ\n",
      "19: Church Organ\n",
      "24: Acoustic Guitar (nylon)\n",
      "25: Acoustic Guitar (steel)\n",
      "26: Electric Guitar (jazz)\n",
      "27: Electric Guitar (clean)\n",
      "32: Acoustic Bass\n",
      "33: Electric Bass (finger)\n",
      "40: Violin\n",
      "41: Viola\n",
      "42: Cello\n",
      "56: Trumpet\n",
      "57: Trombone\n",
      "58: Tuba\n",
      "60: French Horn\n",
      "64: Soprano Sax\n",
      "65: Alto Sax\n",
      "71: Clarinet\n",
      "72: Piccolo\n",
      "73: Flute\n",
      "104: Sitar\n",
      "105: Banjo\n"
     ]
    },
    {
     "name": "stdout",
     "output_type": "stream",
     "text": [
      "\n",
      "Enter the number corresponding to the instrument:  40\n"
     ]
    },
    {
     "name": "stdout",
     "output_type": "stream",
     "text": [
      "Generated Melody (MIDI): [69, 76, 76, 78, 76, 77, 77, 78, 76, 76, 78, 76]\n",
      "Generated Melody (Notes): ['A4', 'E5', 'E5', 'F#5', 'E5', 'F5', 'F5', 'F#5', 'E5', 'E5', 'F#5', 'E5']\n"
     ]
    },
    {
     "data": {
      "image/png": "[encoded data removed]",
      "text/plain": [
       "<Figure size 1000x200 with 1 Axes>"
      ]
     },
     "metadata": {},
     "output_type": "display_data"
    },
    {
     "name": "stdout",
     "output_type": "stream",
     "text": [
      "MIDI file saved: 'generated_melody_2.mid'\n",
      "\n",
      "Generating Melody 3...\n"
     ]
    },
    {
     "name": "stdout",
     "output_type": "stream",
     "text": [
      "Enter the starting note (e.g., 'C4'):  D4\n",
      "Enter the key for the melody (e.g., 'C4'):  D4\n",
      "Enter the mood (happy, sad, calm, energetic):  energetic\n",
      "Enter the complexity (simple, moderate, complex):  complex\n",
      "Enter the minimum note (e.g., 'C3'):  D3\n",
      "Enter the maximum note (e.g., 'C6'):  D6\n",
      "Enter the melody length (number of notes):  16\n"
     ]
    },
    {
     "name": "stdout",
     "output_type": "stream",
     "text": [
      "\n",
      "Choose an instrument from the following list:\n",
      "0: Acoustic Grand Piano\n",
      "1: Bright Acoustic Piano\n",
      "2: Electric Grand Piano\n",
      "13: Xylophone\n",
      "18: Rock Organ\n",
      "19: Church Organ\n",
      "24: Acoustic Guitar (nylon)\n",
      "25: Acoustic Guitar (steel)\n",
      "26: Electric Guitar (jazz)\n",
      "27: Electric Guitar (clean)\n",
      "32: Acoustic Bass\n",
      "33: Electric Bass (finger)\n",
      "40: Violin\n",
      "41: Viola\n",
      "42: Cello\n",
      "56: Trumpet\n",
      "57: Trombone\n",
      "58: Tuba\n",
      "60: French Horn\n",
      "64: Soprano Sax\n",
      "65: Alto Sax\n",
      "71: Clarinet\n",
      "72: Piccolo\n",
      "73: Flute\n",
      "104: Sitar\n",
      "105: Banjo\n"
     ]
    },
    {
     "name": "stdout",
     "output_type": "stream",
     "text": [
      "\n",
      "Enter the number corresponding to the instrument:  18\n"
     ]
    },
    {
     "name": "stdout",
     "output_type": "stream",
     "text": [
      "Generated Melody (MIDI): [62, 67, 71, 71, 69, 69, 71, 71, 71, 69, 67, 69, 69, 71, 71, 71]\n",
      "Generated Melody (Notes): ['D4', 'G4', 'B4', 'B4', 'A4', 'A4', 'B4', 'B4', 'B4', 'A4', 'G4', 'A4', 'A4', 'B4', 'B4', 'B4']\n"
     ]
    },
    {
     "data": {
      "image/png": "[encoded data removed]",
      "text/plain": [
       "<Figure size 1000x200 with 1 Axes>"
      ]
     },
     "metadata": {},
     "output_type": "display_data"
    },
    {
     "name": "stdout",
     "output_type": "stream",
     "text": [
      "MIDI file saved: 'generated_melody_3.mid'\n",
      "\n",
      "Generating Melody 4...\n"
     ]
    },
    {
     "name": "stdout",
     "output_type": "stream",
     "text": [
      "Enter the starting note (e.g., 'C4'):  E4\n",
      "Enter the key for the melody (e.g., 'C4'):  E4\n",
      "Enter the mood (happy, sad, calm, energetic):  calm\n",
      "Enter the complexity (simple, moderate, complex):  simple\n",
      "Enter the minimum note (e.g., 'C3'):  E3\n",
      "Enter the maximum note (e.g., 'C6'):  E6\n",
      "Enter the melody length (number of notes):  8\n"
     ]
    },
    {
     "name": "stdout",
     "output_type": "stream",
     "text": [
      "\n",
      "Choose an instrument from the following list:\n",
      "0: Acoustic Grand Piano\n",
      "1: Bright Acoustic Piano\n",
      "2: Electric Grand Piano\n",
      "13: Xylophone\n",
      "18: Rock Organ\n",
      "19: Church Organ\n",
      "24: Acoustic Guitar (nylon)\n",
      "25: Acoustic Guitar (steel)\n",
      "26: Electric Guitar (jazz)\n",
      "27: Electric Guitar (clean)\n",
      "32: Acoustic Bass\n",
      "33: Electric Bass (finger)\n",
      "40: Violin\n",
      "41: Viola\n",
      "42: Cello\n",
      "56: Trumpet\n",
      "57: Trombone\n",
      "58: Tuba\n",
      "60: French Horn\n",
      "64: Soprano Sax\n",
      "65: Alto Sax\n",
      "71: Clarinet\n",
      "72: Piccolo\n",
      "73: Flute\n",
      "104: Sitar\n",
      "105: Banjo\n"
     ]
    },
    {
     "name": "stdout",
     "output_type": "stream",
     "text": [
      "\n",
      "Enter the number corresponding to the instrument:  73\n"
     ]
    },
    {
     "name": "stdout",
     "output_type": "stream",
     "text": [
      "Generated Melody (MIDI): [64, 64, 69, 73, 73, 73, 71, 71]\n",
      "Generated Melody (Notes): ['E4', 'E4', 'A4', 'C#5', 'C#5', 'C#5', 'B4', 'B4']\n"
     ]
    },
    {
     "data": {
      "image/png": "[encoded data removed]",
      "text/plain": [
       "<Figure size 1000x200 with 1 Axes>"
      ]
     },
     "metadata": {},
     "output_type": "display_data"
    },
    {
     "name": "stdout",
     "output_type": "stream",
     "text": [
      "MIDI file saved: 'generated_melody_4.mid'\n",
      "\n",
      "Generating Melody 5...\n"
     ]
    },
    {
     "name": "stdout",
     "output_type": "stream",
     "text": [
      "Enter the starting note (e.g., 'C4'):  F4\n",
      "Enter the key for the melody (e.g., 'C4'):  F4\n",
      "Enter the mood (happy, sad, calm, energetic):  happy\n",
      "Enter the complexity (simple, moderate, complex):  complex\n",
      "Enter the minimum note (e.g., 'C3'):  F3\n",
      "Enter the maximum note (e.g., 'C6'):  F6\n",
      "Enter the melody length (number of notes):  12\n"
     ]
    },
    {
     "name": "stdout",
     "output_type": "stream",
     "text": [
      "\n",
      "Choose an instrument from the following list:\n",
      "0: Acoustic Grand Piano\n",
      "1: Bright Acoustic Piano\n",
      "2: Electric Grand Piano\n",
      "13: Xylophone\n",
      "18: Rock Organ\n",
      "19: Church Organ\n",
      "24: Acoustic Guitar (nylon)\n",
      "25: Acoustic Guitar (steel)\n",
      "26: Electric Guitar (jazz)\n",
      "27: Electric Guitar (clean)\n",
      "32: Acoustic Bass\n",
      "33: Electric Bass (finger)\n",
      "40: Violin\n",
      "41: Viola\n",
      "42: Cello\n",
      "56: Trumpet\n",
      "57: Trombone\n",
      "58: Tuba\n",
      "60: French Horn\n",
      "64: Soprano Sax\n",
      "65: Alto Sax\n",
      "71: Clarinet\n",
      "72: Piccolo\n",
      "73: Flute\n",
      "104: Sitar\n",
      "105: Banjo\n"
     ]
    },
    {
     "name": "stdout",
     "output_type": "stream",
     "text": [
      "\n",
      "Enter the number corresponding to the instrument:  73\n"
     ]
    },
    {
     "name": "stdout",
     "output_type": "stream",
     "text": [
      "Generated Melody (MIDI): [65, 70, 69, 69, 70, 70, 72, 72, 70, 70, 72, 72]\n",
      "Generated Melody (Notes): ['F4', 'A#4', 'A4', 'A4', 'A#4', 'A#4', 'C5', 'C5', 'A#4', 'A#4', 'C5', 'C5']\n"
     ]
    },
    {
     "data": {
      "image/png": "[encoded data removed]",
      "text/plain": [
       "<Figure size 1000x200 with 1 Axes>"
      ]
     },
     "metadata": {},
     "output_type": "display_data"
    },
    {
     "name": "stdout",
     "output_type": "stream",
     "text": [
      "MIDI file saved: 'generated_melody_5.mid'\n",
      "\n",
      "Generating Melody 6...\n"
     ]
    },
    {
     "name": "stdout",
     "output_type": "stream",
     "text": [
      "Enter the starting note (e.g., 'C4'):  G4\n",
      "Enter the key for the melody (e.g., 'C4'):  G4\n",
      "Enter the mood (happy, sad, calm, energetic):  sad\n",
      "Enter the complexity (simple, moderate, complex):  simple\n",
      "Enter the minimum note (e.g., 'C3'):  G3\n",
      "Enter the maximum note (e.g., 'C6'):  G6\n",
      "Enter the melody length (number of notes):  4\n"
     ]
    },
    {
     "name": "stdout",
     "output_type": "stream",
     "text": [
      "\n",
      "Choose an instrument from the following list:\n",
      "0: Acoustic Grand Piano\n",
      "1: Bright Acoustic Piano\n",
      "2: Electric Grand Piano\n",
      "13: Xylophone\n",
      "18: Rock Organ\n",
      "19: Church Organ\n",
      "24: Acoustic Guitar (nylon)\n",
      "25: Acoustic Guitar (steel)\n",
      "26: Electric Guitar (jazz)\n",
      "27: Electric Guitar (clean)\n",
      "32: Acoustic Bass\n",
      "33: Electric Bass (finger)\n",
      "40: Violin\n",
      "41: Viola\n",
      "42: Cello\n",
      "56: Trumpet\n",
      "57: Trombone\n",
      "58: Tuba\n",
      "60: French Horn\n",
      "64: Soprano Sax\n",
      "65: Alto Sax\n",
      "71: Clarinet\n",
      "72: Piccolo\n",
      "73: Flute\n",
      "104: Sitar\n",
      "105: Banjo\n"
     ]
    },
    {
     "name": "stdout",
     "output_type": "stream",
     "text": [
      "\n",
      "Enter the number corresponding to the instrument:  0\n"
     ]
    },
    {
     "name": "stdout",
     "output_type": "stream",
     "text": [
      "Generated Melody (MIDI): [67, 76, 74, 75]\n",
      "Generated Melody (Notes): ['G4', 'E5', 'D5', 'D#5']\n"
     ]
    },
    {
     "data": {
      "image/png": "[encoded data removed]",
      "text/plain": [
       "<Figure size 1000x200 with 1 Axes>"
      ]
     },
     "metadata": {},
     "output_type": "display_data"
    },
    {
     "name": "stdout",
     "output_type": "stream",
     "text": [
      "MIDI file saved: 'generated_melody_6.mid'\n",
      "\n",
      "Generating Melody 7...\n"
     ]
    },
    {
     "name": "stdout",
     "output_type": "stream",
     "text": [
      "Enter the starting note (e.g., 'C4'):  C3\n",
      "Enter the key for the melody (e.g., 'C4'):  C3\n",
      "Enter the mood (happy, sad, calm, energetic):  calm\n",
      "Enter the complexity (simple, moderate, complex):  simple\n",
      "Enter the minimum note (e.g., 'C3'):  C3\n",
      "Enter the maximum note (e.g., 'C6'):  C6\n",
      "Enter the melody length (number of notes):  10\n"
     ]
    },
    {
     "name": "stdout",
     "output_type": "stream",
     "text": [
      "\n",
      "Choose an instrument from the following list:\n",
      "0: Acoustic Grand Piano\n",
      "1: Bright Acoustic Piano\n",
      "2: Electric Grand Piano\n",
      "13: Xylophone\n",
      "18: Rock Organ\n",
      "19: Church Organ\n",
      "24: Acoustic Guitar (nylon)\n",
      "25: Acoustic Guitar (steel)\n",
      "26: Electric Guitar (jazz)\n",
      "27: Electric Guitar (clean)\n",
      "32: Acoustic Bass\n",
      "33: Electric Bass (finger)\n",
      "40: Violin\n",
      "41: Viola\n",
      "42: Cello\n",
      "56: Trumpet\n",
      "57: Trombone\n",
      "58: Tuba\n",
      "60: French Horn\n",
      "64: Soprano Sax\n",
      "65: Alto Sax\n",
      "71: Clarinet\n",
      "72: Piccolo\n",
      "73: Flute\n",
      "104: Sitar\n",
      "105: Banjo\n"
     ]
    },
    {
     "name": "stdout",
     "output_type": "stream",
     "text": [
      "\n",
      "Enter the number corresponding to the instrument:  24\n"
     ]
    },
    {
     "name": "stdout",
     "output_type": "stream",
     "text": [
      "Generated Melody (MIDI): [48, 57, 55, 54, 55, 57, 57, 57, 57, 55]\n",
      "Generated Melody (Notes): ['C3', 'A3', 'G3', 'F#3', 'G3', 'A3', 'A3', 'A3', 'A3', 'G3']\n"
     ]
    },
    {
     "data": {
      "image/png": "[encoded data removed]",
      "text/plain": [
       "<Figure size 1000x200 with 1 Axes>"
      ]
     },
     "metadata": {},
     "output_type": "display_data"
    },
    {
     "name": "stdout",
     "output_type": "stream",
     "text": [
      "MIDI file saved: 'generated_melody_7.mid'\n",
      "\n",
      "Generating Melody 8...\n"
     ]
    },
    {
     "name": "stdout",
     "output_type": "stream",
     "text": [
      "Enter the starting note (e.g., 'C4'):  Z4\n",
      "Enter the key for the melody (e.g., 'C4'):  Z4\n",
      "Enter the mood (happy, sad, calm, energetic):  joyful\n"
     ]
    },
    {
     "name": "stdout",
     "output_type": "stream",
     "text": [
      "Invalid mood. Please choose from 'happy', 'sad', 'calm', or 'energetic'.\n"
     ]
    },
    {
     "name": "stdout",
     "output_type": "stream",
     "text": [
      "Enter the mood (happy, sad, calm, energetic):  happy\n",
      "Enter the complexity (simple, moderate, complex):  high\n"
     ]
    },
    {
     "name": "stdout",
     "output_type": "stream",
     "text": [
      "Invalid complexity. Please choose from 'simple', 'moderate', or 'complex'.\n"
     ]
    },
    {
     "name": "stdout",
     "output_type": "stream",
     "text": [
      "Enter the complexity (simple, moderate, complex):  complex\n",
      "Enter the minimum note (e.g., 'C3'):  Z3\n",
      "Enter the maximum note (e.g., 'C6'):  Z6\n",
      "Enter the melody length (number of notes):  20\n"
     ]
    },
    {
     "name": "stdout",
     "output_type": "stream",
     "text": [
      "\n",
      "Choose an instrument from the following list:\n",
      "0: Acoustic Grand Piano\n",
      "1: Bright Acoustic Piano\n",
      "2: Electric Grand Piano\n",
      "13: Xylophone\n",
      "18: Rock Organ\n",
      "19: Church Organ\n",
      "24: Acoustic Guitar (nylon)\n",
      "25: Acoustic Guitar (steel)\n",
      "26: Electric Guitar (jazz)\n",
      "27: Electric Guitar (clean)\n",
      "32: Acoustic Bass\n",
      "33: Electric Bass (finger)\n",
      "40: Violin\n",
      "41: Viola\n",
      "42: Cello\n",
      "56: Trumpet\n",
      "57: Trombone\n",
      "58: Tuba\n",
      "60: French Horn\n",
      "64: Soprano Sax\n",
      "65: Alto Sax\n",
      "71: Clarinet\n",
      "72: Piccolo\n",
      "73: Flute\n",
      "104: Sitar\n",
      "105: Banjo\n"
     ]
    },
    {
     "name": "stdout",
     "output_type": "stream",
     "text": [
      "\n",
      "Enter the number corresponding to the instrument:  0\n"
     ]
    },
    {
     "name": "stdout",
     "output_type": "stream",
     "text": [
      "Error: Invalid key 'Z4'. Please enter a valid note like 'C4', 'G#3', etc.\n"
     ]
    }
   ],
   "source": [
    "# Run the melody generation process\n",
    "if __name__ == \"__main__\":\n",
    "    generate_melodies()"
   ]
  },
  {
   "cell_type": "code",
   "execution_count": 13,
   "id": "5fc36e87-adff-4532-b7e7-54323ca966ea",
   "metadata": {},
   "outputs": [
    {
     "name": "stdout",
     "output_type": "stream",
     "text": [
      "Welcome to the AI Melody Generator!\n"
     ]
    },
    {
     "name": "stdout",
     "output_type": "stream",
     "text": [
      "Enter the number of melodies to generate:  2\n"
     ]
    },
    {
     "name": "stdout",
     "output_type": "stream",
     "text": [
      "\n",
      "Generating Melody 1...\n"
     ]
    },
    {
     "name": "stdout",
     "output_type": "stream",
     "text": [
      "Enter the starting note (e.g., 'C4'):  D4\n",
      "Enter the key for the melody (e.g., 'C4'):  D4\n",
      "Enter the mood (happy, sad, calm, energetic):  happy\n",
      "Enter the complexity (simple, moderate, complex):  simple\n",
      "Enter the minimum note (e.g., 'C3'):  D3\n",
      "Enter the maximum note (e.g., 'C6'):  D6\n",
      "Enter the melody length (number of notes):  8\n"
     ]
    },
    {
     "name": "stdout",
     "output_type": "stream",
     "text": [
      "\n",
      "Choose an instrument from the following list:\n",
      "0: Acoustic Grand Piano\n",
      "1: Bright Acoustic Piano\n",
      "2: Electric Grand Piano\n",
      "13: Xylophone\n",
      "18: Rock Organ\n",
      "19: Church Organ\n",
      "24: Acoustic Guitar (nylon)\n",
      "25: Acoustic Guitar (steel)\n",
      "26: Electric Guitar (jazz)\n",
      "27: Electric Guitar (clean)\n",
      "32: Acoustic Bass\n",
      "33: Electric Bass (finger)\n",
      "40: Violin\n",
      "41: Viola\n",
      "42: Cello\n",
      "56: Trumpet\n",
      "57: Trombone\n",
      "58: Tuba\n",
      "60: French Horn\n",
      "64: Soprano Sax\n",
      "65: Alto Sax\n",
      "71: Clarinet\n",
      "72: Piccolo\n",
      "73: Flute\n",
      "104: Sitar\n",
      "105: Banjo\n"
     ]
    },
    {
     "name": "stdout",
     "output_type": "stream",
     "text": [
      "\n",
      "Enter the number corresponding to the instrument:  1\n"
     ]
    },
    {
     "name": "stdout",
     "output_type": "stream",
     "text": [
      "Generated Melody (MIDI): [62, 67, 71, 71, 69, 67, 66, 67]\n",
      "Generated Melody (Notes): ['D4', 'G4', 'B4', 'B4', 'A4', 'G4', 'F#4', 'G4']\n"
     ]
    },
    {
     "data": {
      "image/png": "[encoded data removed]",
      "text/plain": [
       "<Figure size 1000x200 with 1 Axes>"
      ]
     },
     "metadata": {},
     "output_type": "display_data"
    },
    {
     "name": "stdout",
     "output_type": "stream",
     "text": [
      "MIDI file saved: 'generated_melody_1.mid'\n",
      "\n",
      "Generating Melody 2...\n"
     ]
    },
    {
     "name": "stdout",
     "output_type": "stream",
     "text": [
      "Enter the starting note (e.g., 'C4'):  C4\n",
      "Enter the key for the melody (e.g., 'C4'):  C4\n",
      "Enter the mood (happy, sad, calm, energetic):  happy\n",
      "Enter the complexity (simple, moderate, complex):  complex\n",
      "Enter the minimum note (e.g., 'C3'):  C3\n",
      "Enter the maximum note (e.g., 'C6'):  C6\n",
      "Enter the melody length (number of notes):  40\n"
     ]
    },
    {
     "name": "stdout",
     "output_type": "stream",
     "text": [
      "\n",
      "Choose an instrument from the following list:\n",
      "0: Acoustic Grand Piano\n",
      "1: Bright Acoustic Piano\n",
      "2: Electric Grand Piano\n",
      "13: Xylophone\n",
      "18: Rock Organ\n",
      "19: Church Organ\n",
      "24: Acoustic Guitar (nylon)\n",
      "25: Acoustic Guitar (steel)\n",
      "26: Electric Guitar (jazz)\n",
      "27: Electric Guitar (clean)\n",
      "32: Acoustic Bass\n",
      "33: Electric Bass (finger)\n",
      "40: Violin\n",
      "41: Viola\n",
      "42: Cello\n",
      "56: Trumpet\n",
      "57: Trombone\n",
      "58: Tuba\n",
      "60: French Horn\n",
      "64: Soprano Sax\n",
      "65: Alto Sax\n",
      "71: Clarinet\n",
      "72: Piccolo\n",
      "73: Flute\n",
      "104: Sitar\n",
      "105: Banjo\n"
     ]
    },
    {
     "name": "stdout",
     "output_type": "stream",
     "text": [
      "\n",
      "Enter the number corresponding to the instrument:  64\n"
     ]
    },
    {
     "name": "stdout",
     "output_type": "stream",
     "text": [
      "Generated Melody (MIDI): [60, 60, 65, 69, 67, 67, 69, 69, 71, 67, 65, 64, 67, 67, 67, 67, 69, 67, 69, 67, 69, 69, 69, 69, 69, 69, 67, 69, 67, 67, 65, 67, 69, 69, 69, 69, 67, 69, 69, 67]\n",
      "Generated Melody (Notes): ['C4', 'C4', 'F4', 'A4', 'G4', 'G4', 'A4', 'A4', 'B4', 'G4', 'F4', 'E4', 'G4', 'G4', 'G4', 'G4', 'A4', 'G4', 'A4', 'G4', 'A4', 'A4', 'A4', 'A4', 'A4', 'A4', 'G4', 'A4', 'G4', 'G4', 'F4', 'G4', 'A4', 'A4', 'A4', 'A4', 'G4', 'A4', 'A4', 'G4']\n"
     ]
    },
    {
     "data": {
      "image/png": "[encoded data removed]",
      "text/plain": [
       "<Figure size 1000x200 with 1 Axes>"
      ]
     },
     "metadata": {},
     "output_type": "display_data"
    },
    {
     "name": "stdout",
     "output_type": "stream",
     "text": [
      "MIDI file saved: 'generated_melody_2.mid'\n"
     ]
    }
   ],
   "source": [
    "# Run the melody generation process\n",
    "if __name__ == \"__main__\":\n",
    "    generate_melodies()"
   ]
  },
  {
   "cell_type": "markdown",
   "id": "9119cb09-ae82-4f22-809c-a74aed45c99f",
   "metadata": {},
   "source": [
    "# Part D – Software Testing\n",
    "The best test method for this AI implementation in melody generation is Functional Testing."
   ]
  },
  {
   "cell_type": "markdown",
   "id": "acef8619-b65c-49ea-a121-4adad784203f",
   "metadata": {},
   "source": [
    "## Functional Testing\n",
    "Functional testing aims to test that the system works the way it should, according to its requirements and the user's input. This ensures that the software gives the proper result for given input and operate within acceptable limits. For checking the functional requirements of melody generation such as testing the aspect whether the system can generate the melody according to mood, complexity, and instrument choices and producing the corresponding MIDI file or not, functional testing will be applied."
   ]
  },
  {
   "cell_type": "markdown",
   "id": "af4cdb5b-fbb1-4604-b489-72fee4e9449c",
   "metadata": {},
   "source": [
    "### Testing Methods\n",
    "<ul>\n",
    "<li>Correctness of Generated Melody: See if the melody fits with the given input parameters: mood, complexity and key.</li>\n",
    "<li>Chord Progression: See if the mood of the selected mood matches the chord progression.</li>\n",
    "<li>MIDI Output: Make sure the generated melody is correct and correspond to the given instrument and the notes.</li>"
   ]
  },
  {
   "cell_type": "markdown",
   "id": "64986b9b-0d60-42b5-853e-50f760fc1d07",
   "metadata": {},
   "source": [
    "*Table 1* showcases all the test cases for functional testing.\n",
    "\n",
    "| No. | Test case                              | Input Values                                      | Expected Output                                        | Pass / Fail |\n",
    "|-----|----------------------------------------|------------------------------------------------------|------------------------------------------------------|-------------|\n",
    "| 1   | Verify melody generation for \"happy\" mood | Mood: happy, Key: C4, Complexity: simple, Length: 8    | Melody with major chords (I, IV, V, vi) for \"happy\" mood     | <span>Pass</span> |\n",
    "| 2   | Verify melody generation for \"sad\" mood      | Mood: sad, Key: A4, Complexity: moderate, Length: 12               | Melody with minor chords (i, iv, V, vi) for \"sad\" mood               | <span>Pass</span> |\n",
    "| 3   | Verify melody generation for \"energetic\" mood     | Mood: energetic, Key: D4, Complexity: complex, Length: 16       | Melody with fast tempo and energetic chord progression       | <span>Pass</span> |\n",
    "| 4   | Verify chord progression accuracy      | Mood: calm, Key: E4, Complexity: simple, Length: 8  | Accurate calm progression with soothing patterns      | <span>Pass</span> |\n",
    "| 5   | Test instrument change              | Mood: happy, Key: F4, Instrument: Flute, Length: 12             | MIDI generated with flute sound matching melody             | <span>Pass</span> |\n",
    "| 6   | Test melody length     | Mood: sad, Key: G4, Complexity: simple, Length: 4      | Melody length is exactly 4 measures      | <span>Pass</span> |\n",
    "| 7   | Verify octave shifts           | Mood: calm, Key: C3, Complexity: simple, Length: 10               | Melody includes smooth octave transitions                      | <span>Pass</span> |\n",
    "| 8   | Verify error handling for invalid input           | Invalid Mood: \"joyful\", Key: Z4, Complexity: high, Length: 20               | Error message indicating invalid mood and key               | <span>Pass</span> |\n",
    "| 9  | Test randomization in melody generation        | Mood: happy, Key: D4, Complexity: simple, Length: 8                                  | Melody should vary slightly with multiple runs on same input                                  | <span>Pass</span> |\n",
    "| 10  | Test complex long melodies        | Mood: happy, Key: C4, Complexity: complex, Length: 40                                  | Melody with more notes and complexity                                   | <span>Pass</span> |"
   ]
  },
  {
   "cell_type": "markdown",
   "id": "6499ba91-0be0-4919-8816-8e88701acd60",
   "metadata": {},
   "source": [
    "# Part E – Evaluate results"
   ]
  },
  {
   "cell_type": "markdown",
   "id": "8bc3f201-37f2-48e9-8b59-44f696648fa3",
   "metadata": {},
   "source": [
    "## Performance Evaluation\n",
    "**Computational Efficiency:**\n",
    "\n",
    "This was implemented using the A search algorithm* in a way that can find the cheapest solution to melody generation. This, however, does not provide high efficiency when the complexity or the length of the melody is high. This exponential nature of the search space makes the performance may degrade for longer or more diagnostics melodies. This can be offset by the use of the max_steps parameter in limiting the steps the algorithm has to take so to avoid grinding computations. It still could be an issue for very large search spaces though.\n",
    "\n",
    "**Scalability:**\n",
    "\n",
    "Since the short melodies with reasonable complexity fall within the range of most of the elementary music knowledge, the algorithm is optimized to handle such pieces. For longer melodies or more possible notes, however, performance might become slower. The A* search algorithm can be also optimized, or sophisticated search technique can be used."
   ]
  },
  {
   "cell_type": "markdown",
   "id": "5f54654e-a5cd-415f-b822-92993216afc4",
   "metadata": {},
   "source": [
    "## Effectiveness\n",
    "The effectiveness of the AI realization is measured by how much better it fulfils the goals.\n",
    "\n",
    "**Musical Cohesion:**\n",
    "\n",
    "The system produces harmonically coherent melodies by utilizing a set of pre defined chord progressions to match the mood the user has selected. The harmony cost heuristic makes sure that the notes of the generated melody are harmonic when relating between them. For instance, in the \"happy\" case one prefers major chords (I, IV, V) and the melodies show respect to the harmonic choices. They usually generate the kind of melodies that stay within the musical structure offered by the user, particularly harmony, and mood.\n",
    "\n",
    "**Mood Alignment:**\n",
    "\n",
    "Finally the system aligns very well the mood of the generated melody with the input of the user. For instance, a good, happy mood tends to yield major key progressions, while a \"sad\" mood would be more likely to create melodies played in minor keys (and with less \"happy sounding\" progressions). Depending on the mood taken to music, the emotional content of the melody is generally more in line with the chosen mood, though this is of course subjective and can be heavily coloured by the listener's perception.\n",
    "\n",
    "**Complexity Control:**\n",
    "\n",
    "Three complexity levels (simple, moderate, and complex) govern the structure and rhythm of the melody of the system. The duration of the notes and the number of possible steps in the melody determine the complexity.\n",
    "Although this works fine pretty much all the time, the complexity you get out of it may sometimes feel redundant, abrained, or too simple compared to the complexity of the human created melodies. The control over melody structure could be more advanced and might bring complexity."
   ]
  },
  {
   "cell_type": "markdown",
   "id": "a3fe0b6f-0a5d-4b4c-91f2-65cab57808a2",
   "metadata": {},
   "source": [
    "## Evaluation of Results\n",
    "**Generated Melody Output:**\n",
    "\n",
    "The output can be compared with human composed melodies, the melodies in the same mood or complexity range, to evaluate. The system does a good job following chord progressions and choosing notes based on mood while the creativity and musicality are not all always a match to a human composer. However, produce musically coherent melodies that satisfy basic structural requirements (harmony, key, mood).\n",
    "\n",
    "**Subjective Musicality:**\n",
    "\n",
    "The melodies generally are pleasing to the ear, but possibly too simple for one of more seasoned composer's work. In fact, this happens especially when the AI has to calculate complicated musical notes, and it needs to make easier transitions to save the cost, but not try to do more creative approaches to assigning notes.\n",
    "\n",
    "**User Interaction:**\n",
    "\n",
    "It’s easy for the user to change many things about the melody generation, things like mood, complexity, and key. This gives the users great control and allows them to steer the AI in the direction it should be moving, in order to reach the output they want. Further enriching the system is the ability to pick different instruments.\n",
    "\n",
    "**Visualization and MIDI Output:**\n",
    "\n",
    "A clear feed back for the user, is the fact that the system is able to plot the melody and create a MIDI file. The visual plot also proves to be a useful way to obtain a high level view of an overall structure of the generated melody and how its development and progress in time take place. Using MIDI file, user can then use it for music production tools so that the system is also useful for more practical applications like film score or background music creation."
   ]
  },
  {
   "cell_type": "markdown",
   "id": "883abe9f-6105-48e2-aca9-d5a970d3d235",
   "metadata": {},
   "source": [
    "## Strengths of the Prototype Implementation\n",
    "<ul>\n",
    "<li><b>Customizability:</b> All of which means the user can influence the melody’s mood, complexity, length, etc., giving a broad range of outputs.</li>\n",
    "<li><b>Harmonic Consistency:</b> The melody stays close to harmonic rules and results musically in good ways.</li>\n",
    "<li><b>Visualization and Export:</b> The generated output includes visual plots of the melody and MIDI files with a system that can export the output into other software.</li>\n",
    "<li><b>Error Handling:</b> Valid input handling errors are handled within the code to make user experience seamless.</li>\n",
    "</ul>"
   ]
  },
  {
   "cell_type": "markdown",
   "id": "59eaa370-c813-4bbd-818c-d69b6f9a44fb",
   "metadata": {},
   "source": [
    "## Limitations\n",
    "<ul>\n",
    "<li><b>Limited Musical Complexity:</b> This AI system generates melodies with basic structure. Although it is unlikely to be able to produce highly recondite or novel compositions in respect of rhythm, counterpoint, or complex harmonic progression, it is probably better equipped for that task than is a player with no interest whatsoever in music theory.</li>\n",
    "<li><b>Subjective Evaluation:</b> The resulting generated melodies may be emotionally subjective. The system produces mood specific compositions, but the same melody can be interpreted differently by different listeners.</li>\n",
    "<li><b>Performance with Large Search Spaces:</b> For longer melodies, or higher complexity settings, the A* search algorithm will need to be optimized for better performance.</li>\n",
    "</ul>"
   ]
  },
  {
   "cell_type": "markdown",
   "id": "4ec27459-3552-4d7e-a103-3f6f8ad5b660",
   "metadata": {},
   "source": [
    "# Conclusion\n",
    "Using the A* search algorithm as a basis for this project, artificial intelligence is used to help the melody generation, although providing structured and harmonically consistent melodies. The system is able to produce melodies that satisfy a given set of parameters, such as key, mood, and complexity by integrating principles of music theory with heuristic optimization. Additional additions of visualizations and MIDI export further makes usability, it becomes tangible thing for making and generating background music’s melody quickly.\n",
    "\n",
    "The implementation can generate simple to moderately complex melodies well, but fails to produce highly complex pieces, or to capture the subjective aspects of musical expression. Thus, future improvements are suggested, namely, by utilizing machine learning techniques to provide dynamic heuristics, supporting more diverse musical styles and enhancing the musicality evaluation."
   ]
  },
  {
   "cell_type": "markdown",
   "id": "9059cb9f-06ff-4b67-bd35-a5cc0fc805f3",
   "metadata": {},
   "source": [
    "# References\n",
    "1. Dong, H.-W. et al. (2017) ‘MuseGAN: Multi-track Sequential Generative Adversarial Networks for Symbolic Music Generation and Accompaniment’. arXiv. Available at: https://doi.org/10.48550/arXiv.1709.06298.\n",
    "\n",
    "2. Hawthorne, C. et al. (2019) ‘Enabling Factorized Piano Music Modeling and Generation with the MAESTRO Dataset’. arXiv. Available at: https://doi.org/10.48550/arXiv.1810.12247.\n",
    "\n",
    "3. Huang, C.-Z.A. et al. (2018) ‘Music Transformer’. arXiv. Available at: https://doi.org/10.48550/arXiv.1809.04281.\n",
    "\n",
    "4. Toshniwal, T., Tandon, P. and P, N. (2022) ‘Music Genre Recognition Using Short Time Fourier Tranform And CNN’, in 2022 International Conference on Computer Communication and Informatics (ICCCI). 2022 International Conference on Computer Communication and Informatics (ICCCI), pp. 1–4. Available at: https://doi.org/10.1109/ICCCI54379.2022.9740939.\n",
    "\n",
    "5. Wiriyachaiporn, P. et al. (2018) ‘Algorithmic Music Composition Comparison’, in 2018 15th International Joint Conference on Computer Science and Software Engineering (JCSSE). 2018 15th International Joint Conference on Computer Science and Software Engineering (JCSSE), pp. 1–6. Available at: https://doi.org/10.1109/JCSSE.2018.8457397.\n"
   ]
  }
 ],
 "metadata": {
  "kernelspec": {
   "display_name": "Python 3 (ipykernel)",
   "language": "python",
   "name": "python3"
  },
  "language_info": {
   "codemirror_mode": {
    "name": "ipython",
    "version": 3
   },
   "file_extension": ".py",
   "mimetype": "text/x-python",
   "name": "python",
   "nbconvert_exporter": "python",
   "pygments_lexer": "ipython3",
   "version": "3.12.5"
  }
 },
 "nbformat": 4,
 "nbformat_minor": 5
}
